{
 "cells": [
  {
   "cell_type": "code",
   "execution_count": 1,
   "id": "e85f8cde",
   "metadata": {},
   "outputs": [
    {
     "name": "stdout",
     "output_type": "stream",
     "text": [
      "Twinkle, twinkle, little star, \n",
      "\tHow I wonder what you are! \n",
      "\t\tUp above the world so high, \n",
      "\t\tLike a diamond in the sky. \n",
      "Twinkle, twinkle, little star, \n",
      "\tHow I wonder what you are!\n"
     ]
    }
   ],
   "source": [
    "#1. Write a Python program to print the following string in a specific format***\n",
    "\n",
    "print(\"Twinkle, twinkle, little star, \\n\\tHow I wonder what you are! \\n\\t\\tUp above the world so high, \\n\\t\\tLike a diamond in the sky. \\nTwinkle, twinkle, little star, \\n\\tHow I wonder what you are!\");"
   ]
  },
  {
   "cell_type": "code",
   "execution_count": 3,
   "id": "02028856",
   "metadata": {},
   "outputs": [
    {
     "name": "stdout",
     "output_type": "stream",
     "text": [
      "Python version\n",
      "3.8.8 (default, Apr 13 2021, 15:08:03) [MSC v.1916 64 bit (AMD64)]\n",
      "Version info.\n",
      "sys.version_info(major=3, minor=8, micro=8, releaselevel='final', serial=0)\n"
     ]
    }
   ],
   "source": [
    "\n",
    "# Write a Python program to get the Python version you are using\n",
    "import sys\n",
    "print(\"Python version\");\n",
    "print (sys.version);\n",
    "print(\"Version info.\");\n",
    "print (sys.version_info);"
   ]
  },
  {
   "cell_type": "code",
   "execution_count": 4,
   "id": "eb380e89",
   "metadata": {},
   "outputs": [
    {
     "name": "stdout",
     "output_type": "stream",
     "text": [
      "Current date and time : \n",
      "2021-10-24 21:06:27\n"
     ]
    }
   ],
   "source": [
    "#Write a Python program to display the current date and time\n",
    "import datetime\n",
    "now = datetime.datetime.now()\n",
    "print (\"Current date and time : \")\n",
    "print (now.strftime(\"%Y-%m-%d %H:%M:%S\"))"
   ]
  },
  {
   "cell_type": "code",
   "execution_count": 5,
   "id": "f0fb8d0e",
   "metadata": {},
   "outputs": [
    {
     "name": "stdout",
     "output_type": "stream",
     "text": [
      "Enter radius of circle : 27\n",
      "Area of the circle is: 2290.221044466959\n"
     ]
    }
   ],
   "source": [
    "#Write a Python program which accepts the radius of a circle from the user.\n",
    "from math import pi\n",
    "\n",
    "r = float(input (\"Enter radius of circle : \"))\n",
    "\n",
    "print (\"Area of the circle is: \" + str(pi * r**2))"
   ]
  },
  {
   "cell_type": "code",
   "execution_count": 6,
   "id": "4b941d92",
   "metadata": {},
   "outputs": [
    {
     "name": "stdout",
     "output_type": "stream",
     "text": [
      "Input your First Name : saeed uz\n",
      "Input your Last Name : zaman\n",
      "Hello  zaman saeed uz\n"
     ]
    }
   ],
   "source": [
    "# Reverse First name and last Name\n",
    "fname = input(\"Input your First Name : \")\n",
    "lname = input(\"Input your Last Name : \")\n",
    "print (\"Hello  \" + lname + \" \" + fname)\n"
   ]
  },
  {
   "cell_type": "code",
   "execution_count": 7,
   "id": "ef2bb5f5",
   "metadata": {},
   "outputs": [
    {
     "name": "stdout",
     "output_type": "stream",
     "text": [
      "enter english Marks:56\n",
      "enter Math marks:76\n",
      "enter islamiyat Marks:56\n",
      "enter urdu marks:54\n",
      "enter Computer Marks:75\n",
      " Grade B\n"
     ]
    }
   ],
   "source": [
    "#markSheet\n",
    "eng=int(input(\"enter english Marks:\")); \n",
    "math=int(input(\"enter Math marks:\")); \n",
    "isl=int(input(\"enter islamiyat Marks:\")); \n",
    "urdu=int(input(\"enter urdu marks:\")); \n",
    "com=int(input(\"enter Computer Marks:\"));\n",
    "sum=eng+math+isl+urdu+com; total_marks=500; \n",
    "per=sum/total_marks*100; \n",
    "if per <= 100 and per> 80: \n",
    "    print(\" Grade A+\"); \n",
    "elif per <= 80 and per> 60: \n",
    "        print(\" Grade B\");\n",
    "elif per <= 60 and per> 50: \n",
    "            print(\" Grade c\");\n",
    "elif per <= 50 and per> 40:\n",
    "    print(\" Grade D\"); \n",
    "elif per <= 40 and per> 33:\n",
    "    print(\" Grade E\"); \n",
    "elif per <= 33 and per> 0: \n",
    "    print(\" fail\"); \n",
    "else: \n",
    "    print(\" percenatage Can't be possible\");"
   ]
  },
  {
   "cell_type": "code",
   "execution_count": 8,
   "id": "ed9f77bb",
   "metadata": {},
   "outputs": [
    {
     "name": "stdout",
     "output_type": "stream",
     "text": [
      "enter First number23\n",
      "enter second number34\n",
      "57\n"
     ]
    }
   ],
   "source": [
    "# addition of num from user\n",
    "a=int(input(\"enter First number\"));\n",
    "b=int(input(\"enter second number\"));\n",
    "sum=a+b;\n",
    "print(sum);"
   ]
  },
  {
   "cell_type": "code",
   "execution_count": 9,
   "id": "6fba5ad0",
   "metadata": {},
   "outputs": [
    {
     "name": "stdout",
     "output_type": "stream",
     "text": [
      "enter  number34\n",
      "even\n"
     ]
    }
   ],
   "source": [
    "# even and odd num\n",
    "num=int(input(\"enter  number\"));\n",
    "if num%2==0:\n",
    "    print(\"even\");\n",
    "else:\n",
    "    print(\"odd\");\n",
    "    "
   ]
  },
  {
   "cell_type": "code",
   "execution_count": 10,
   "id": "593bbf04",
   "metadata": {},
   "outputs": [
    {
     "name": "stdout",
     "output_type": "stream",
     "text": [
      "length of list 8\n"
     ]
    }
   ],
   "source": [
    "#lenth of list\n",
    "list=[1,2,3,4,5,7,8,3];\n",
    "print(\"length of list\",len(list));"
   ]
  },
  {
   "cell_type": "code",
   "execution_count": null,
   "id": "29b52427",
   "metadata": {},
   "outputs": [
    {
     "name": "stdout",
     "output_type": "stream",
     "text": [
      "How many numbers: 23\n",
      "Enter number 34\n",
      "Enter number 34\n",
      "Enter number 343\n",
      "Enter number 34\n"
     ]
    }
   ],
   "source": [
    "#sum of all numeric list in items\n",
    "lst = []\n",
    "num = int(input('How many numbers: '))\n",
    "for n in range(num):\n",
    "    numbers = int(input('Enter number '))\n",
    "    lst.append(numbers)\n",
    "print(\"Sum of elements in given list is :\", sum(lst))"
   ]
  },
  {
   "cell_type": "code",
   "execution_count": null,
   "id": "8838ea04",
   "metadata": {},
   "outputs": [],
   "source": [
    "#largest num of the list\n",
    "list=[1,2,53,7,8,56,34,32,36,88];\n",
    "print(\"The largest num in list\",max[list]);"
   ]
  },
  {
   "cell_type": "code",
   "execution_count": null,
   "id": "5df44a7b",
   "metadata": {},
   "outputs": [],
   "source": [
    "#Write a program that prints out all the elements of the list that are less than 5.\n",
    "a = [1, 1, 2, 3, 5, 8, 13, 21, 34, 55, 89]\n",
    "\n",
    "for i in a:\n",
    "\n",
    "    if i < 5:\n",
    "\n",
    "        print(i)"
   ]
  },
  {
   "cell_type": "code",
   "execution_count": null,
   "id": "9083526d",
   "metadata": {},
   "outputs": [],
   "source": []
  }
 ],
 "metadata": {
  "kernelspec": {
   "display_name": "Python 3",
   "language": "python",
   "name": "python3"
  },
  "language_info": {
   "codemirror_mode": {
    "name": "ipython",
    "version": 3
   },
   "file_extension": ".py",
   "mimetype": "text/x-python",
   "name": "python",
   "nbconvert_exporter": "python",
   "pygments_lexer": "ipython3",
   "version": "3.8.8"
  }
 },
 "nbformat": 4,
 "nbformat_minor": 5
}
