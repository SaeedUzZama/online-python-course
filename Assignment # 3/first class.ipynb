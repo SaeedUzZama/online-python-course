{
 "cells": [
  {
   "cell_type": "code",
   "execution_count": 1,
   "source": [
    "print(\"hello world\")"
   ],
   "outputs": [
    {
     "output_type": "stream",
     "name": "stdout",
     "text": [
      "hello world\n"
     ]
    }
   ],
   "metadata": {}
  },
  {
   "cell_type": "code",
   "execution_count": 2,
   "source": [
    "a=5\r\n",
    "b=10\r\n",
    "c= a+b\r\n",
    "print(c)"
   ],
   "outputs": [
    {
     "output_type": "stream",
     "name": "stdout",
     "text": [
      "15\n"
     ]
    }
   ],
   "metadata": {}
  },
  {
   "cell_type": "code",
   "execution_count": 3,
   "source": [
    "x=\"ali\"\r\n",
    "y=\"mughal\"\r\n",
    "z=x+y\r\n",
    "print(z)"
   ],
   "outputs": [
    {
     "output_type": "stream",
     "name": "stdout",
     "text": [
      "alimughal\n"
     ]
    }
   ],
   "metadata": {}
  },
  {
   "cell_type": "code",
   "execution_count": 4,
   "source": [
    "f=\"4\"\r\n",
    "g=\"8\"\r\n",
    "h=f+g\r\n",
    "print(h)"
   ],
   "outputs": [
    {
     "output_type": "stream",
     "name": "stdout",
     "text": [
      "48\n"
     ]
    }
   ],
   "metadata": {}
  },
  {
   "cell_type": "code",
   "execution_count": 6,
   "source": [
    "a=\"10\"\r\n",
    "b=20\r\n",
    "c=a+b\r\n",
    "print(c)"
   ],
   "outputs": [
    {
     "output_type": "error",
     "ename": "TypeError",
     "evalue": "can only concatenate str (not \"int\") to str",
     "traceback": [
      "\u001b[1;31m---------------------------------------------------------------------------\u001b[0m",
      "\u001b[1;31mTypeError\u001b[0m                                 Traceback (most recent call last)",
      "\u001b[1;32m<ipython-input-6-fe8bdf3d3f16>\u001b[0m in \u001b[0;36m<module>\u001b[1;34m\u001b[0m\n\u001b[0;32m      1\u001b[0m \u001b[0ma\u001b[0m\u001b[1;33m=\u001b[0m\u001b[1;34m\"10\"\u001b[0m\u001b[1;33m\u001b[0m\u001b[1;33m\u001b[0m\u001b[0m\n\u001b[0;32m      2\u001b[0m \u001b[0mb\u001b[0m\u001b[1;33m=\u001b[0m\u001b[1;36m20\u001b[0m\u001b[1;33m\u001b[0m\u001b[1;33m\u001b[0m\u001b[0m\n\u001b[1;32m----> 3\u001b[1;33m \u001b[0mc\u001b[0m\u001b[1;33m=\u001b[0m\u001b[0ma\u001b[0m\u001b[1;33m+\u001b[0m\u001b[0mb\u001b[0m\u001b[1;33m\u001b[0m\u001b[1;33m\u001b[0m\u001b[0m\n\u001b[0m\u001b[0;32m      4\u001b[0m \u001b[0mprint\u001b[0m\u001b[1;33m(\u001b[0m\u001b[0mc\u001b[0m\u001b[1;33m)\u001b[0m\u001b[1;33m\u001b[0m\u001b[1;33m\u001b[0m\u001b[0m\n",
      "\u001b[1;31mTypeError\u001b[0m: can only concatenate str (not \"int\") to str"
     ]
    }
   ],
   "metadata": {}
  },
  {
   "cell_type": "code",
   "execution_count": 7,
   "source": [
    "x=8\r\n",
    "y=x+7\r\n",
    "z= y-x+1\r\n",
    "print(z)"
   ],
   "outputs": [
    {
     "output_type": "stream",
     "name": "stdout",
     "text": [
      "8\n"
     ]
    }
   ],
   "metadata": {}
  },
  {
   "cell_type": "code",
   "execution_count": 10,
   "source": [
    "a=((12-4)/(2+9)*5)\r\n",
    "print(a)"
   ],
   "outputs": [
    {
     "output_type": "stream",
     "name": "stdout",
     "text": [
      "3.6363636363636367\n"
     ]
    }
   ],
   "metadata": {}
  },
  {
   "cell_type": "code",
   "execution_count": 11,
   "source": [
    "x=10\r\n",
    "y=x%3\r\n",
    "print(y)"
   ],
   "outputs": [
    {
     "output_type": "stream",
     "name": "stdout",
     "text": [
      "1\n"
     ]
    }
   ],
   "metadata": {}
  },
  {
   "cell_type": "code",
   "execution_count": 12,
   "source": [
    "f= 10\r\n",
    "f=12\r\n",
    "print(f)"
   ],
   "outputs": [
    {
     "output_type": "stream",
     "name": "stdout",
     "text": [
      "12\n"
     ]
    }
   ],
   "metadata": {}
  },
  {
   "cell_type": "code",
   "execution_count": 15,
   "source": [
    "a=\"saeed uz zaman\"\r\n",
    "print(\"my name is \"+ a)"
   ],
   "outputs": [
    {
     "output_type": "stream",
     "name": "stdout",
     "text": [
      "my name is saeed uz zaman\n"
     ]
    }
   ],
   "metadata": {}
  },
  {
   "cell_type": "code",
   "execution_count": 18,
   "source": [
    "gender=\"male\"\r\n",
    "if g == \"male\":\r\n",
    "    print(\"allow for ride\");"
   ],
   "outputs": [
    {
     "output_type": "stream",
     "name": "stdout",
     "text": [
      "allow for ride\n"
     ]
    }
   ],
   "metadata": {}
  },
  {
   "cell_type": "code",
   "execution_count": 19,
   "source": [
    "gender=\"female\"\r\n",
    "if g == \"male\":\r\n",
    "    print(\"allow for ride\")\r\n",
    "else:\r\n",
    "    print(\"not allow for ride\")"
   ],
   "outputs": [
    {
     "output_type": "stream",
     "name": "stdout",
     "text": [
      "not allow for ride\n"
     ]
    }
   ],
   "metadata": {}
  },
  {
   "cell_type": "code",
   "execution_count": 21,
   "source": [
    "gender=\"female\"\r\n",
    "if gender != \"male\":\r\n",
    "    print(\"allow for ride\")\r\n",
    "else:\r\n",
    "    print(\"not allow for ride\")"
   ],
   "outputs": [
    {
     "output_type": "stream",
     "name": "stdout",
     "text": [
      "allow for ride\n"
     ]
    }
   ],
   "metadata": {}
  },
  {
   "cell_type": "code",
   "execution_count": 23,
   "source": [
    "age=14\r\n",
    "gender=\"female\"\r\n",
    "if age> 18 or gender==\"male\":\r\n",
    "    print(\"allow\")\r\n",
    "else:\r\n",
    "    print(\"not allow\")"
   ],
   "outputs": [
    {
     "output_type": "stream",
     "name": "stdout",
     "text": [
      "not allow\n"
     ]
    }
   ],
   "metadata": {}
  },
  {
   "cell_type": "code",
   "execution_count": 52,
   "source": [
    "percent =70\r\n",
    "if percent>0 and percent<=100:\r\n",
    "    if percent <100 and percent >80:\r\n",
    "        print(\"grade A+\")\r\n",
    "    elif percent <80 and percent >70:\r\n",
    "        print(\"grade A\")\r\n",
    "    elif percent <70 and percent >60:\r\n",
    "        print(\"grade B\")\r\n",
    "    elif percent <60 and percent >50:\r\n",
    "        print(\"grade C\")\r\n",
    "    elif percent <50 and percent >40:\r\n",
    "        print(\"grade D\")\r\n",
    "    elif percent <40 and percent >33:\r\n",
    "        print(\"grade E\")\r\n",
    "    elif percent <33 and percent >0:\r\n",
    "        print(\"fail\")\r\n",
    "else:\r\n",
    "    print(\"you entered wrong percentage\")"
   ],
   "outputs": [],
   "metadata": {}
  },
  {
   "cell_type": "code",
   "execution_count": 56,
   "source": [
    "percent =70\r\n",
    "if percent<=100:\r\n",
    "    if percent <100 and percent >80:\r\n",
    "   \r\n",
    "    print(\"you entered wrong percentage\")"
   ],
   "outputs": [
    {
     "output_type": "stream",
     "name": "stdout",
     "text": [
      "fail\n"
     ]
    }
   ],
   "metadata": {}
  },
  {
   "cell_type": "code",
   "execution_count": 69,
   "source": [
    "percent =80\r\n",
    "if percent>100:\r\n",
    "    print(\"you entered wrong percentage\")\r\n",
    "elif percent <=100 and percent >=80:\r\n",
    "    print(\"grade A+\")\r\n",
    "elif percent <=80 and percent >=70:\r\n",
    "    print(\"grade A\")\r\n",
    "elif percent <=70 and percent >=60:\r\n",
    "    print(\"grade B\")\r\n",
    "elif percent <=60 and percent >=50:\r\n",
    "    print(\"grade C\")\r\n",
    "elif percent <=50 and percent >=40:\r\n",
    "    print(\"grade D\")\r\n",
    "elif percent <=40 and percent >=33:\r\n",
    "    print(\"grade E\")\r\n",
    "else:\r\n",
    "     print(\"fail\")\r\n"
   ],
   "outputs": [
    {
     "output_type": "stream",
     "name": "stdout",
     "text": [
      "grade A+\n"
     ]
    }
   ],
   "metadata": {}
  },
  {
   "cell_type": "code",
   "execution_count": null,
   "source": [],
   "outputs": [],
   "metadata": {}
  },
  {
   "cell_type": "code",
   "execution_count": null,
   "source": [],
   "outputs": [],
   "metadata": {}
  }
 ],
 "metadata": {
  "kernelspec": {
   "display_name": "Python 3",
   "language": "python",
   "name": "python3"
  },
  "language_info": {
   "codemirror_mode": {
    "name": "ipython",
    "version": 3
   },
   "file_extension": ".py",
   "mimetype": "text/x-python",
   "name": "python",
   "nbconvert_exporter": "python",
   "pygments_lexer": "ipython3",
   "version": "3.8.8"
  }
 },
 "nbformat": 4,
 "nbformat_minor": 5
}