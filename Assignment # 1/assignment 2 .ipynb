{
 "cells": [
  {
   "cell_type": "code",
   "execution_count": 2,
   "id": "e6cb4b91",
   "metadata": {},
   "outputs": [
    {
     "name": "stdout",
     "output_type": "stream",
     "text": [
      "we have to find Percentage Here \n",
      "the percentage of subjects are: 55.666666666666664\n"
     ]
    }
   ],
   "source": [
    "English= 55\n",
    "Isl = 47\n",
    "Math =65\n",
    "Total = 300\n",
    "print(\"we have to find Percentage Here \")\n",
    "percentage= (English + Isl + Math)/ 3\n",
    "print(\"the percentage of subjects are:\", percentage)"
   ]
  },
  {
   "cell_type": "code",
   "execution_count": 3,
   "id": "e7d8d759",
   "metadata": {},
   "outputs": [
    {
     "name": "stdout",
     "output_type": "stream",
     "text": [
      "grade A+\n"
     ]
    }
   ],
   "source": [
    "percent =80\n",
    "if percent>100:\n",
    "    print(\"you entered wrong percentage\")\n",
    "elif percent <=100 and percent >=80:\n",
    "    print(\"grade A+\")\n",
    "elif percent <=80 and percent >=70:\n",
    "    print(\"grade A\")\n",
    "elif percent <=70 and percent >=60:\n",
    "    print(\"grade B\")\n",
    "elif percent <=60 and percent >=50:\n",
    "    print(\"grade C\")\n",
    "elif percent <=50 and percent >=40:\n",
    "    print(\"grade D\")\n",
    "elif percent <=40 and percent >=33:\n",
    "    print(\"grade E\")\n",
    "else:\n",
    "     print(\"fail\")\n"
   ]
  },
  {
   "cell_type": "code",
   "execution_count": null,
   "id": "4b019854",
   "metadata": {},
   "outputs": [],
   "source": []
  }
 ],
 "metadata": {
  "kernelspec": {
   "display_name": "Python 3",
   "language": "python",
   "name": "python3"
  },
  "language_info": {
   "codemirror_mode": {
    "name": "ipython",
    "version": 3
   },
   "file_extension": ".py",
   "mimetype": "text/x-python",
   "name": "python",
   "nbconvert_exporter": "python",
   "pygments_lexer": "ipython3",
   "version": "3.8.8"
  }
 },
 "nbformat": 4,
 "nbformat_minor": 5
}
